{
 "cells": [
  {
   "cell_type": "markdown",
   "metadata": {},
   "source": [
    "# 创建用户持仓信息表并上传示例数据\n",
    "\n",
    "本笔记本用于：\n",
    "1. 创建 DynamoDB 表来存储用户持仓信息\n",
    "2. 上传示例的用户持仓数据\n",
    "3. 验证数据是否正确上传"
   ]
  },
  {
   "cell_type": "markdown",
   "metadata": {},
   "source": [
    "## 导入必要的库"
   ]
  },
  {
   "cell_type": "code",
   "execution_count": 1,
   "metadata": {},
   "outputs": [],
   "source": [
    "import boto3\n",
    "import yaml\n",
    "import os\n",
    "import json\n",
    "from datetime import datetime\n",
    "import pandas as pd\n",
    "from decimal import Decimal\n",
    "import time"
   ]
  },
  {
   "cell_type": "markdown",
   "metadata": {},
   "source": [
    "## 设置 AWS 连接"
   ]
  },
  {
   "cell_type": "code",
   "execution_count": 2,
   "metadata": {},
   "outputs": [
    {
     "name": "stdout",
     "output_type": "stream",
     "text": [
      "AWS Region: us-east-1\n"
     ]
    }
   ],
   "source": [
    "# 创建 DynamoDB 客户端和资源\n",
    "session = boto3.Session()\n",
    "region = session.region_name\n",
    "dynamodb_client = boto3.client(\"dynamodb\", region_name=region)\n",
    "dynamodb_resource = boto3.resource(\"dynamodb\", region_name=region)\n",
    "smm_client = boto3.client(\"ssm\")\n",
    "\n",
    "print(f\"AWS Region: {region}\")"
   ]
  },
  {
   "cell_type": "markdown",
   "metadata": {},
   "source": [
    "## 定义知识库名称和表名"
   ]
  },
  {
   "cell_type": "code",
   "execution_count": 3,
   "metadata": {},
   "outputs": [],
   "source": [
    "kb_name = \"fsi-fund-knowledge\"\n",
    "table_name = \"user_holdings\"\n",
    "pk_item = \"user_id\"\n",
    "sk_item = \"fund_code\""
   ]
  },
  {
   "cell_type": "markdown",
   "metadata": {},
   "source": [
    "## 创建 DynamoDB 表"
   ]
  },
  {
   "cell_type": "code",
   "execution_count": 4,
   "metadata": {},
   "outputs": [],
   "source": [
    "def create_dynamodb_table(kb_name, table_name, pk_item, sk_item):\n",
    "    \"\"\"创建 DynamoDB 表\n",
    "    Args:\n",
    "        kb_name: 知识库名称，用于创建 SSM 参数\n",
    "        table_name: 表名\n",
    "        pk_item: 主键名称\n",
    "        sk_item: 排序键名称\n",
    "    \"\"\"\n",
    "    try:\n",
    "        table = dynamodb_resource.create_table(\n",
    "            TableName=table_name,\n",
    "            KeySchema=[\n",
    "                {\"AttributeName\": pk_item, \"KeyType\": \"HASH\"},\n",
    "                {\"AttributeName\": sk_item, \"KeyType\": \"RANGE\"},\n",
    "            ],\n",
    "            AttributeDefinitions=[\n",
    "                {\"AttributeName\": pk_item, \"AttributeType\": \"S\"},\n",
    "                {\"AttributeName\": sk_item, \"AttributeType\": \"S\"},\n",
    "            ],\n",
    "            BillingMode=\"PAY_PER_REQUEST\",  # 使用按需容量模式\n",
    "        )\n",
    "\n",
    "        # 等待表创建完成\n",
    "        print(f\"正在创建表 {table_name}...\")\n",
    "        table.wait_until_exists()\n",
    "        print(f\"表 {table_name} 创建成功！\")\n",
    "        \n",
    "        # 在参数存储中保存表名\n",
    "        smm_client.put_parameter(\n",
    "            Name=f\"{kb_name}-{table_name}-table-name\",\n",
    "            Description=f\"{kb_name} {table_name} 表名\",\n",
    "            Value=table_name,\n",
    "            Type=\"String\",\n",
    "            Overwrite=True,\n",
    "        )\n",
    "        print(f\"参数 {kb_name}-{table_name}-table-name 创建成功！\")\n",
    "        return table\n",
    "    except dynamodb_client.exceptions.ResourceInUseException:\n",
    "        print(f\"表 {table_name} 已存在，跳过表创建步骤\")\n",
    "        # 在参数存储中保存表名\n",
    "        smm_client.put_parameter(\n",
    "            Name=f\"{kb_name}-{table_name}-table-name\",\n",
    "            Description=f\"{kb_name} {table_name} 表名\",\n",
    "            Value=table_name,\n",
    "            Type=\"String\",\n",
    "            Overwrite=True,\n",
    "        )\n",
    "        print(f\"参数 {kb_name}-{table_name}-table-name 创建成功！\")\n",
    "        return dynamodb_resource.Table(table_name)"
   ]
  },
  {
   "cell_type": "code",
   "execution_count": 5,
   "metadata": {},
   "outputs": [
    {
     "name": "stdout",
     "output_type": "stream",
     "text": [
      "正在创建表 user_holdings...\n",
      "表 user_holdings 创建成功！\n",
      "参数 fsi-fund-knowledge-user_holdings-table-name 创建成功！\n"
     ]
    }
   ],
   "source": [
    "# 创建用户持仓表\n",
    "user_holdings_table = create_dynamodb_table(kb_name, table_name, pk_item, sk_item)"
   ]
  },
  {
   "cell_type": "markdown",
   "metadata": {},
   "source": [
    "## 准备示例用户持仓数据"
   ]
  },
  {
   "cell_type": "code",
   "execution_count": 6,
   "metadata": {},
   "outputs": [],
   "source": [
    "# 创建示例用户持仓数据\n",
    "sample_holdings = [\n",
    "    {\n",
    "        \"user_id\": \"user001\",\n",
    "        \"fund_code\": \"000001\",\n",
    "        \"fund_name\": \"华夏成长混合\",\n",
    "        \"holding_amount\": Decimal(\"1000.00\"),\n",
    "        \"purchase_date\": \"2025-01-15\",\n",
    "        \"purchase_price\": Decimal(\"1.5432\"),\n",
    "        \"current_value\": Decimal(\"1600.50\"),\n",
    "        \"profit_loss\": Decimal(\"57.00\"),\n",
    "        \"last_updated\": datetime.now().isoformat()\n",
    "    },\n",
    "    {\n",
    "        \"user_id\": \"user001\",\n",
    "        \"fund_code\": \"000002\",\n",
    "        \"fund_name\": \"易方达策略成长混合\",\n",
    "        \"holding_amount\": Decimal(\"2000.00\"),\n",
    "        \"purchase_date\": \"2025-02-20\",\n",
    "        \"purchase_price\": Decimal(\"2.1234\"),\n",
    "        \"current_value\": Decimal(\"2300.75\"),\n",
    "        \"profit_loss\": Decimal(\"76.50\"),\n",
    "        \"last_updated\": datetime.now().isoformat()\n",
    "    },\n",
    "    {\n",
    "        \"user_id\": \"user001\",\n",
    "        \"fund_code\": \"000003\",\n",
    "        \"fund_name\": \"南方优选成长混合\",\n",
    "        \"holding_amount\": Decimal(\"1500.00\"),\n",
    "        \"purchase_date\": \"2025-03-10\",\n",
    "        \"purchase_price\": Decimal(\"1.8765\"),\n",
    "        \"current_value\": Decimal(\"1750.25\"),\n",
    "        \"profit_loss\": Decimal(\"43.75\"),\n",
    "        \"last_updated\": datetime.now().isoformat()\n",
    "    },\n",
    "    {\n",
    "        \"user_id\": \"user002\",\n",
    "        \"fund_code\": \"000001\",\n",
    "        \"fund_name\": \"华夏成长混合\",\n",
    "        \"holding_amount\": Decimal(\"3000.00\"),\n",
    "        \"purchase_date\": \"2025-01-05\",\n",
    "        \"purchase_price\": Decimal(\"1.5000\"),\n",
    "        \"current_value\": Decimal(\"4800.00\"),\n",
    "        \"profit_loss\": Decimal(\"300.00\"),\n",
    "        \"last_updated\": datetime.now().isoformat()\n",
    "    },\n",
    "    {\n",
    "        \"user_id\": \"user002\",\n",
    "        \"fund_code\": \"000004\",\n",
    "        \"fund_name\": \"博时主题行业混合\",\n",
    "        \"holding_amount\": Decimal(\"2500.00\"),\n",
    "        \"purchase_date\": \"2025-04-01\",\n",
    "        \"purchase_price\": Decimal(\"2.5678\"),\n",
    "        \"current_value\": Decimal(\"2800.50\"),\n",
    "        \"profit_loss\": Decimal(\"120.25\"),\n",
    "        \"last_updated\": datetime.now().isoformat()\n",
    "    },\n",
    "    {\n",
    "        \"user_id\": \"user003\",\n",
    "        \"fund_code\": \"000005\",\n",
    "        \"fund_name\": \"嘉实增长混合\",\n",
    "        \"holding_amount\": Decimal(\"5000.00\"),\n",
    "        \"purchase_date\": \"2025-05-01\",\n",
    "        \"purchase_price\": Decimal(\"1.2345\"),\n",
    "        \"current_value\": Decimal(\"5500.00\"),\n",
    "        \"profit_loss\": Decimal(\"172.50\"),\n",
    "        \"last_updated\": datetime.now().isoformat()\n",
    "    }\n",
    "]"
   ]
  },
  {
   "cell_type": "markdown",
   "metadata": {},
   "source": [
    "## 上传示例数据到 DynamoDB 表"
   ]
  },
  {
   "cell_type": "code",
   "execution_count": 7,
   "metadata": {},
   "outputs": [],
   "source": [
    "def upload_items_to_dynamodb(table, items):\n",
    "    \"\"\"上传多个项目到 DynamoDB 表\n",
    "    Args:\n",
    "        table: DynamoDB 表资源\n",
    "        items: 要上传的项目列表\n",
    "    \"\"\"\n",
    "    for item in items:\n",
    "        try:\n",
    "            table.put_item(Item=item)\n",
    "            print(f\"成功上传项目: {item['user_id']} - {item['fund_code']}\")\n",
    "        except Exception as e:\n",
    "            print(f\"上传项目时出错: {str(e)}\")\n",
    "            print(f\"项目: {item}\")"
   ]
  },
  {
   "cell_type": "code",
   "execution_count": 8,
   "metadata": {},
   "outputs": [
    {
     "name": "stdout",
     "output_type": "stream",
     "text": [
      "成功上传项目: user001 - 000001\n",
      "成功上传项目: user001 - 000002\n",
      "成功上传项目: user001 - 000003\n",
      "成功上传项目: user002 - 000001\n",
      "成功上传项目: user002 - 000004\n",
      "成功上传项目: user003 - 000005\n"
     ]
    }
   ],
   "source": [
    "# 上传示例数据\n",
    "upload_items_to_dynamodb(user_holdings_table, sample_holdings)"
   ]
  },
  {
   "cell_type": "markdown",
   "metadata": {},
   "source": [
    "## 验证数据是否正确上传"
   ]
  },
  {
   "cell_type": "code",
   "execution_count": 9,
   "metadata": {},
   "outputs": [],
   "source": [
    "def query_user_holdings(table, user_id):\n",
    "    \"\"\"查询用户持仓信息\n",
    "    Args:\n",
    "        table: DynamoDB 表资源\n",
    "        user_id: 用户ID\n",
    "    Returns:\n",
    "        用户持仓信息列表\n",
    "    \"\"\"\n",
    "    response = table.query(\n",
    "        KeyConditionExpression=boto3.dynamodb.conditions.Key(\"user_id\").eq(user_id)\n",
    "    )\n",
    "    return response[\"Items\"]"
   ]
  },
  {
   "cell_type": "code",
   "execution_count": 10,
   "metadata": {},
   "outputs": [
    {
     "name": "stdout",
     "output_type": "stream",
     "text": [
      "用户001的持仓信息:\n",
      "基金代码: 000001, 基金名称: 华夏成长混合, 持有份额: 1000, 当前价值: 1600.5\n",
      "基金代码: 000002, 基金名称: 易方达策略成长混合, 持有份额: 2000, 当前价值: 2300.75\n",
      "基金代码: 000003, 基金名称: 南方优选成长混合, 持有份额: 1500, 当前价值: 1750.25\n"
     ]
    }
   ],
   "source": [
    "# 查询用户001的持仓信息\n",
    "user001_holdings = query_user_holdings(user_holdings_table, \"user001\")\n",
    "print(\"用户001的持仓信息:\")\n",
    "for holding in user001_holdings:\n",
    "    print(f\"基金代码: {holding['fund_code']}, 基金名称: {holding['fund_name']}, 持有份额: {holding['holding_amount']}, 当前价值: {holding['current_value']}\")"
   ]
  },
  {
   "cell_type": "code",
   "execution_count": 11,
   "metadata": {},
   "outputs": [
    {
     "name": "stdout",
     "output_type": "stream",
     "text": [
      "用户002的持仓信息:\n",
      "基金代码: 000001, 基金名称: 华夏成长混合, 持有份额: 3000, 当前价值: 4800\n",
      "基金代码: 000004, 基金名称: 博时主题行业混合, 持有份额: 2500, 当前价值: 2800.5\n"
     ]
    }
   ],
   "source": [
    "# 查询用户002的持仓信息\n",
    "user002_holdings = query_user_holdings(user_holdings_table, \"user002\")\n",
    "print(\"用户002的持仓信息:\")\n",
    "for holding in user002_holdings:\n",
    "    print(f\"基金代码: {holding['fund_code']}, 基金名称: {holding['fund_name']}, 持有份额: {holding['holding_amount']}, 当前价值: {holding['current_value']}\")"
   ]
  },
  {
   "cell_type": "code",
   "execution_count": 12,
   "metadata": {},
   "outputs": [
    {
     "name": "stdout",
     "output_type": "stream",
     "text": [
      "用户003的持仓信息:\n",
      "基金代码: 000005, 基金名称: 嘉实增长混合, 持有份额: 5000, 当前价值: 5500\n"
     ]
    }
   ],
   "source": [
    "# 查询用户003的持仓信息\n",
    "user003_holdings = query_user_holdings(user_holdings_table, \"user003\")\n",
    "print(\"用户003的持仓信息:\")\n",
    "for holding in user003_holdings:\n",
    "    print(f\"基金代码: {holding['fund_code']}, 基金名称: {holding['fund_name']}, 持有份额: {holding['holding_amount']}, 当前价值: {holding['current_value']}\")"
   ]
  },
  {
   "cell_type": "markdown",
   "metadata": {},
   "source": [
    "## 更新 prereqs_config.yaml 文件\n",
    "\n",
    "请在 `fund-advisor-agent-strands/prereqs/prereqs_config.yaml` 文件中添加以下内容：\n",
    "\n",
    "```yaml\n",
    "  # 用户持仓信息表\n",
    "  - table_name: \"user_holdings\"\n",
    "    pk_item: \"user_id\"\n",
    "    sk_item: \"fund_code\"\n",
    "```"
   ]
  },
  {
   "cell_type": "markdown",
   "metadata": {},
   "source": [
    "## 使用 user_info.py 中的工具函数测试"
   ]
  },
  {
   "cell_type": "code",
   "execution_count": null,
   "metadata": {},
   "outputs": [],
   "source": [
    "import sys\n",
    "import os\n",
    "\n",
    "# 添加项目根目录到 Python 路径\n",
    "project_root = os.path.abspath(os.path.join(os.getcwd(), '..'))\n",
    "if project_root not in sys.path:\n",
    "    sys.path.append(project_root)\n",
    "\n",
    "# 导入 user_info 模块中的函数\n",
    "from tools.user_info import get_user_holdings, get_user_fund_holding, get_user_portfolio_summary"
   ]
  },
  {
   "cell_type": "code",
   "execution_count": null,
   "metadata": {},
   "outputs": [],
   "source": [
    "# 测试获取用户持仓信息\n",
    "user001_holdings = get_user_holdings(\"user001\")\n",
    "print(\"用户001的持仓信息:\")\n",
    "print(json.dumps(user001_holdings, indent=2, default=str))"
   ]
  },
  {
   "cell_type": "code",
   "execution_count": null,
   "metadata": {},
   "outputs": [],
   "source": [
    "# 测试获取用户特定基金的持仓信息\n",
    "user001_fund_holding = get_user_fund_holding(\"user001\", \"000001\")\n",
    "print(\"用户001持有的基金000001信息:\")\n",
    "print(json.dumps(user001_fund_holding, indent=2, default=str))"
   ]
  },
  {
   "cell_type": "code",
   "execution_count": null,
   "metadata": {},
   "outputs": [],
   "source": [
    "# 测试获取用户投资组合摘要\n",
    "user001_portfolio = get_user_portfolio_summary(\"user001\")\n",
    "print(\"用户001的投资组合摘要:\")\n",
    "print(json.dumps(user001_portfolio, indent=2, default=str))"
   ]
  }
 ],
 "metadata": {
  "kernelspec": {
   "display_name": "dev",
   "language": "python",
   "name": "python3"
  },
  "language_info": {
   "codemirror_mode": {
    "name": "ipython",
    "version": 3
   },
   "file_extension": ".py",
   "mimetype": "text/x-python",
   "name": "python",
   "nbconvert_exporter": "python",
   "pygments_lexer": "ipython3",
   "version": "3.10.13"
  }
 },
 "nbformat": 4,
 "nbformat_minor": 4
}
