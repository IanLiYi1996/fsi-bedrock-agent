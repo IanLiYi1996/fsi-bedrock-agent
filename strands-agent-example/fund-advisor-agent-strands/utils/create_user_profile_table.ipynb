{
 "cells": [
  {
   "cell_type": "markdown",
   "metadata": {},
   "source": [
    "# 创建用户身份信息表并上传示例数据\n",
    "\n",
    "本笔记本用于：\n",
    "1. 创建 DynamoDB 表来存储用户身份信息（风险偏好、投资年限等）\n",
    "2. 上传示例的用户身份数据\n",
    "3. 验证数据是否正确上传"
   ]
  },
  {
   "cell_type": "markdown",
   "metadata": {},
   "source": [
    "## 导入必要的库"
   ]
  },
  {
   "cell_type": "code",
   "execution_count": 1,
   "metadata": {},
   "outputs": [],
   "source": [
    "import boto3\n",
    "import yaml\n",
    "import os\n",
    "import json\n",
    "from datetime import datetime\n",
    "import pandas as pd\n",
    "from decimal import Decimal\n",
    "import time"
   ]
  },
  {
   "cell_type": "markdown",
   "metadata": {},
   "source": [
    "## 设置 AWS 连接"
   ]
  },
  {
   "cell_type": "code",
   "execution_count": 2,
   "metadata": {},
   "outputs": [
    {
     "name": "stdout",
     "output_type": "stream",
     "text": [
      "AWS Region: us-east-1\n"
     ]
    }
   ],
   "source": [
    "# 创建 DynamoDB 客户端和资源\n",
    "session = boto3.Session()\n",
    "region = session.region_name\n",
    "dynamodb_client = boto3.client(\"dynamodb\", region_name=region)\n",
    "dynamodb_resource = boto3.resource(\"dynamodb\", region_name=region)\n",
    "smm_client = boto3.client(\"ssm\")\n",
    "\n",
    "print(f\"AWS Region: {region}\")"
   ]
  },
  {
   "cell_type": "markdown",
   "metadata": {},
   "source": [
    "## 定义知识库名称和表名"
   ]
  },
  {
   "cell_type": "code",
   "execution_count": 3,
   "metadata": {},
   "outputs": [],
   "source": [
    "kb_name = \"fsi-fund-knowledge\"\n",
    "table_name = \"user_profile\"\n",
    "pk_item = \"user_id\""
   ]
  },
  {
   "cell_type": "markdown",
   "metadata": {},
   "source": [
    "## 创建 DynamoDB 表"
   ]
  },
  {
   "cell_type": "code",
   "execution_count": 4,
   "metadata": {},
   "outputs": [],
   "source": [
    "def create_dynamodb_table(kb_name, table_name, pk_item):\n",
    "    \"\"\"创建 DynamoDB 表（只有主键，没有排序键）\n",
    "    Args:\n",
    "        kb_name: 知识库名称，用于创建 SSM 参数\n",
    "        table_name: 表名\n",
    "        pk_item: 主键名称\n",
    "    \"\"\"\n",
    "    try:\n",
    "        table = dynamodb_resource.create_table(\n",
    "            TableName=table_name,\n",
    "            KeySchema=[\n",
    "                {\"AttributeName\": pk_item, \"KeyType\": \"HASH\"},\n",
    "            ],\n",
    "            AttributeDefinitions=[\n",
    "                {\"AttributeName\": pk_item, \"AttributeType\": \"S\"},\n",
    "            ],\n",
    "            BillingMode=\"PAY_PER_REQUEST\",  # 使用按需容量模式\n",
    "        )\n",
    "\n",
    "        # 等待表创建完成\n",
    "        print(f\"正在创建表 {table_name}...\")\n",
    "        table.wait_until_exists()\n",
    "        print(f\"表 {table_name} 创建成功！\")\n",
    "        \n",
    "        # 在参数存储中保存表名\n",
    "        smm_client.put_parameter(\n",
    "            Name=f\"{kb_name}-{table_name}-table-name\",\n",
    "            Description=f\"{kb_name} {table_name} 表名\",\n",
    "            Value=table_name,\n",
    "            Type=\"String\",\n",
    "            Overwrite=True,\n",
    "        )\n",
    "        print(f\"参数 {kb_name}-{table_name}-table-name 创建成功！\")\n",
    "        return table\n",
    "    except dynamodb_client.exceptions.ResourceInUseException:\n",
    "        print(f\"表 {table_name} 已存在，跳过表创建步骤\")\n",
    "        # 在参数存储中保存表名\n",
    "        smm_client.put_parameter(\n",
    "            Name=f\"{kb_name}-{table_name}-table-name\",\n",
    "            Description=f\"{kb_name} {table_name} 表名\",\n",
    "            Value=table_name,\n",
    "            Type=\"String\",\n",
    "            Overwrite=True,\n",
    "        )\n",
    "        print(f\"参数 {kb_name}-{table_name}-table-name 创建成功！\")\n",
    "        return dynamodb_resource.Table(table_name)"
   ]
  },
  {
   "cell_type": "code",
   "execution_count": 5,
   "metadata": {},
   "outputs": [
    {
     "name": "stdout",
     "output_type": "stream",
     "text": [
      "正在创建表 user_profile...\n",
      "表 user_profile 创建成功！\n",
      "参数 fsi-fund-knowledge-user_profile-table-name 创建成功！\n"
     ]
    }
   ],
   "source": [
    "# 创建用户身份信息表\n",
    "user_profile_table = create_dynamodb_table(kb_name, table_name, pk_item)"
   ]
  },
  {
   "cell_type": "markdown",
   "metadata": {},
   "source": [
    "## 准备示例用户身份信息数据"
   ]
  },
  {
   "cell_type": "code",
   "execution_count": 6,
   "metadata": {},
   "outputs": [],
   "source": [
    "# 创建示例用户身份信息数据\n",
    "sample_profiles = [\n",
    "    {\n",
    "        \"user_id\": \"user001\",\n",
    "        \"name\": \"张三\",\n",
    "        \"age\": 35,\n",
    "        \"risk_preference\": \"中等风险\",  # 低风险、中等风险、高风险\n",
    "        \"investment_horizon\": 5,  # 投资年限（年）\n",
    "        \"investment_goal\": \"子女教育\",  # 投资目标\n",
    "        \"annual_income\": Decimal(\"300000.00\"),  # 年收入\n",
    "        \"total_assets\": Decimal(\"1500000.00\"),  # 总资产\n",
    "        \"last_updated\": datetime.now().isoformat()\n",
    "    },\n",
    "    {\n",
    "        \"user_id\": \"user002\",\n",
    "        \"name\": \"李四\",\n",
    "        \"age\": 45,\n",
    "        \"risk_preference\": \"低风险\",\n",
    "        \"investment_horizon\": 10,\n",
    "        \"investment_goal\": \"退休规划\",\n",
    "        \"annual_income\": Decimal(\"500000.00\"),\n",
    "        \"total_assets\": Decimal(\"3000000.00\"),\n",
    "        \"last_updated\": datetime.now().isoformat()\n",
    "    },\n",
    "    {\n",
    "        \"user_id\": \"user003\",\n",
    "        \"name\": \"王五\",\n",
    "        \"age\": 28,\n",
    "        \"risk_preference\": \"高风险\",\n",
    "        \"investment_horizon\": 3,\n",
    "        \"investment_goal\": \"财富增值\",\n",
    "        \"annual_income\": Decimal(\"200000.00\"),\n",
    "        \"total_assets\": Decimal(\"800000.00\"),\n",
    "        \"last_updated\": datetime.now().isoformat()\n",
    "    }\n",
    "]"
   ]
  },
  {
   "cell_type": "markdown",
   "metadata": {},
   "source": [
    "## 上传示例数据到 DynamoDB 表"
   ]
  },
  {
   "cell_type": "code",
   "execution_count": 7,
   "metadata": {},
   "outputs": [],
   "source": [
    "def upload_items_to_dynamodb(table, items):\n",
    "    \"\"\"上传多个项目到 DynamoDB 表\n",
    "    Args:\n",
    "        table: DynamoDB 表资源\n",
    "        items: 要上传的项目列表\n",
    "    \"\"\"\n",
    "    for item in items:\n",
    "        try:\n",
    "            table.put_item(Item=item)\n",
    "            print(f\"成功上传项目: {item['user_id']} - {item['name']}\")\n",
    "        except Exception as e:\n",
    "            print(f\"上传项目时出错: {str(e)}\")\n",
    "            print(f\"项目: {item}\")"
   ]
  },
  {
   "cell_type": "code",
   "execution_count": 8,
   "metadata": {},
   "outputs": [
    {
     "name": "stdout",
     "output_type": "stream",
     "text": [
      "成功上传项目: user001 - 张三\n",
      "成功上传项目: user002 - 李四\n",
      "成功上传项目: user003 - 王五\n"
     ]
    }
   ],
   "source": [
    "# 上传示例数据\n",
    "upload_items_to_dynamodb(user_profile_table, sample_profiles)"
   ]
  },
  {
   "cell_type": "markdown",
   "metadata": {},
   "source": [
    "## 验证数据是否正确上传"
   ]
  },
  {
   "cell_type": "code",
   "execution_count": 9,
   "metadata": {},
   "outputs": [],
   "source": [
    "def get_user_profile(table, user_id):\n",
    "    \"\"\"获取用户身份信息\n",
    "    Args:\n",
    "        table: DynamoDB 表资源\n",
    "        user_id: 用户ID\n",
    "    Returns:\n",
    "        用户身份信息\n",
    "    \"\"\"\n",
    "    response = table.get_item(\n",
    "        Key={\n",
    "            \"user_id\": user_id\n",
    "        }\n",
    "    )\n",
    "    return response.get(\"Item\")"
   ]
  },
  {
   "cell_type": "code",
   "execution_count": 10,
   "metadata": {},
   "outputs": [
    {
     "name": "stdout",
     "output_type": "stream",
     "text": [
      "用户001的身份信息:\n",
      "{\n",
      "  \"last_updated\": \"2025-05-27T17:20:09.912674\",\n",
      "  \"user_id\": \"user001\",\n",
      "  \"investment_horizon\": \"5\",\n",
      "  \"annual_income\": \"300000\",\n",
      "  \"name\": \"\\u5f20\\u4e09\",\n",
      "  \"investment_goal\": \"\\u5b50\\u5973\\u6559\\u80b2\",\n",
      "  \"total_assets\": \"1500000\",\n",
      "  \"age\": \"35\",\n",
      "  \"risk_preference\": \"\\u4e2d\\u7b49\\u98ce\\u9669\"\n",
      "}\n"
     ]
    }
   ],
   "source": [
    "# 查询用户001的身份信息\n",
    "user001_profile = get_user_profile(user_profile_table, \"user001\")\n",
    "print(\"用户001的身份信息:\")\n",
    "print(json.dumps(user001_profile, indent=2, default=str))"
   ]
  },
  {
   "cell_type": "code",
   "execution_count": 11,
   "metadata": {},
   "outputs": [
    {
     "name": "stdout",
     "output_type": "stream",
     "text": [
      "用户002的身份信息:\n",
      "{\n",
      "  \"last_updated\": \"2025-05-27T17:20:09.912684\",\n",
      "  \"user_id\": \"user002\",\n",
      "  \"investment_horizon\": \"10\",\n",
      "  \"annual_income\": \"500000\",\n",
      "  \"name\": \"\\u674e\\u56db\",\n",
      "  \"investment_goal\": \"\\u9000\\u4f11\\u89c4\\u5212\",\n",
      "  \"total_assets\": \"3000000\",\n",
      "  \"age\": \"45\",\n",
      "  \"risk_preference\": \"\\u4f4e\\u98ce\\u9669\"\n",
      "}\n"
     ]
    }
   ],
   "source": [
    "# 查询用户002的身份信息\n",
    "user002_profile = get_user_profile(user_profile_table, \"user002\")\n",
    "print(\"用户002的身份信息:\")\n",
    "print(json.dumps(user002_profile, indent=2, default=str))"
   ]
  },
  {
   "cell_type": "code",
   "execution_count": 12,
   "metadata": {},
   "outputs": [
    {
     "name": "stdout",
     "output_type": "stream",
     "text": [
      "用户003的身份信息:\n",
      "{\n",
      "  \"last_updated\": \"2025-05-27T17:20:09.912686\",\n",
      "  \"user_id\": \"user003\",\n",
      "  \"investment_horizon\": \"3\",\n",
      "  \"annual_income\": \"200000\",\n",
      "  \"name\": \"\\u738b\\u4e94\",\n",
      "  \"investment_goal\": \"\\u8d22\\u5bcc\\u589e\\u503c\",\n",
      "  \"total_assets\": \"800000\",\n",
      "  \"age\": \"28\",\n",
      "  \"risk_preference\": \"\\u9ad8\\u98ce\\u9669\"\n",
      "}\n"
     ]
    }
   ],
   "source": [
    "# 查询用户003的身份信息\n",
    "user003_profile = get_user_profile(user_profile_table, \"user003\")\n",
    "print(\"用户003的身份信息:\")\n",
    "print(json.dumps(user003_profile, indent=2, default=str))"
   ]
  },
  {
   "cell_type": "markdown",
   "metadata": {},
   "source": [
    "## 更新 prereqs_config.yaml 文件\n",
    "\n",
    "请在 `fund-advisor-agent-strands/prereqs/prereqs_config.yaml` 文件中添加以下内容：\n",
    "\n",
    "```yaml\n",
    "  # 用户身份信息表\n",
    "  - table_name: \"user_profile\"\n",
    "    pk_item: \"user_id\"\n",
    "    sk_item: \"\"\n",
    "```"
   ]
  }
 ],
 "metadata": {
  "kernelspec": {
   "display_name": "dev",
   "language": "python",
   "name": "python3"
  },
  "language_info": {
   "codemirror_mode": {
    "name": "ipython",
    "version": 3
   },
   "file_extension": ".py",
   "mimetype": "text/x-python",
   "name": "python",
   "nbconvert_exporter": "python",
   "pygments_lexer": "ipython3",
   "version": "3.10.13"
  }
 },
 "nbformat": 4,
 "nbformat_minor": 4
}
