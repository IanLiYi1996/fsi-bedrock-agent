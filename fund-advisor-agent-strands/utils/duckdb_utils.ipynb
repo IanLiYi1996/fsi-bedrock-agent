{
 "cells": [
  {
   "cell_type": "code",
   "execution_count": 1,
   "id": "eb1c8007",
   "metadata": {},
   "outputs": [],
   "source": [
    "import duckdb"
   ]
  },
  {
   "cell_type": "code",
   "execution_count": 2,
   "id": "655f9866",
   "metadata": {},
   "outputs": [
    {
     "data": {
      "text/plain": [
       "┌──────────┬─────────────────────┬─────────────────────────────────────┬─────────────────┬─────────────────────────────────────────────────┐\n",
       "│ 基金代码 │      拼音缩写       │              基金简称               │    基金类型     │                    拼音全称                     │\n",
       "│ varchar  │       varchar       │               varchar               │     varchar     │                     varchar                     │\n",
       "├──────────┼─────────────────────┼─────────────────────────────────────┼─────────────────┼─────────────────────────────────────────────────┤\n",
       "│ 000001   │ HXCZHH              │ 华夏成长混合                        │ 混合型-灵活     │ HUAXIACHENGZHANGHUNHE                           │\n",
       "│ 000002   │ HXCZHH              │ 华夏成长混合(后端)                  │ 混合型-灵活     │ HUAXIACHENGZHANGHUNHE                           │\n",
       "│ 000003   │ ZHKZZZQA            │ 中海可转债债券A                     │ 债券型-混合二级 │ ZHONGHAIKEZHUANZHAIZHAIQUANA                    │\n",
       "│ 000004   │ ZHKZZZQC            │ 中海可转债债券C                     │ 债券型-混合二级 │ ZHONGHAIKEZHUANZHAIZHAIQUANC                    │\n",
       "│ 000005   │ JSZQXYDQZQ          │ 嘉实增强信用定期债券                │ 债券型-混合一级 │ JIASHIZENGQIANGXINYONGDINGQIZHAIQUAN            │\n",
       "│ 000006   │ XBLDLHCZHHA         │ 西部利得量化成长混合A               │ 混合型-偏股     │ XIBULIDELIANGHUACHENGZHANGHUNHEA                │\n",
       "│ 000008   │ JSZZ500ETFLJA       │ 嘉实中证500ETF联接A                 │ 指数型-股票     │ JIASHIZHONGZHENG500ETFLIANJIEA                  │\n",
       "│ 000009   │ YFDTTLCHBA          │ 易方达天天理财货币A                 │ 货币型-普通货币 │ YIFANGDATIANTIANLICAIHUOBIA                     │\n",
       "│ 000010   │ YFDTTLCHBB          │ 易方达天天理财货币B                 │ 货币型-普通货币 │ YIFANGDATIANTIANLICAIHUOBIB                     │\n",
       "│ 000011   │ HXDPJXHHA           │ 华夏大盘精选混合A                   │ 混合型-灵活     │ HUAXIADAPANJINGXUANHUNHEA                       │\n",
       "│   ·      │     ·               │         ·                           │      ·          │             ·                                   │\n",
       "│   ·      │     ·               │         ·                           │      ·          │             ·                                   │\n",
       "│   ·      │     ·               │         ·                           │      ·          │             ·                                   │\n",
       "│ 012894   │ THZZKCCY50ETFLJA    │ 天弘中证科创创业50ETF联接A          │ 指数型-股票     │ TIANHONGZHONGZHENGKECHUANGCHUANGYE50ETFLIANJIEA │\n",
       "│ 012895   │ THZZKCCY50ETFLJC    │ 天弘中证科创创业50ETF联接C          │ 指数型-股票     │ TIANHONGZHONGZHENGKECHUANGCHUANGYE50ETFLIANJIEC │\n",
       "│ 012896   │ HAHCZHJX3GYCYHHFOFA │ 华安慧萃组合精选3个月持有混合(FOF)A │ FOF-进取型      │ HUAANHUICUIZUHEJINGXUAN3GEYUECHIYOUHUNHEFOFA    │\n",
       "│ 012897   │ ZOXLZQC             │ 中欧兴利债券C                       │ 债券型-长债     │ ZHONGOUXINGLIZHAIQUANC                          │\n",
       "│ 012898   │ XYZZKCCY50ZSA       │ 兴银中证科创创业50指数A             │ 指数型-股票     │ XINGYINZHONGZHENGKECHUANGCHUANGYE50ZHISHUA      │\n",
       "│ 012899   │ XYZZKCCY50ZSC       │ 兴银中证科创创业50指数C             │ 指数型-股票     │ XINGYINZHONGZHENGKECHUANGCHUANGYE50ZHISHUC      │\n",
       "│ 012900   │ ZSCYBZSZQA          │ 招商创业板指数增强A                 │ 指数型-股票     │ ZHAOSHANGCHUANGYEBANZHISHUZENGQIANGA            │\n",
       "│ 012901   │ ZSCYBZSZQC          │ 招商创业板指数增强C                 │ 指数型-股票     │ ZHAOSHANGCHUANGYEBANZHISHUZENGQIANGC            │\n",
       "│ 012902   │ PATYZQA             │ 平安添悦债券A                       │ 债券型-混合二级 │ PINGANTIANYUEZHAIQUANA                          │\n",
       "│ 012903   │ PATYZQC             │ 平安添悦债券C                       │ 债券型-混合二级 │ PINGANTIANYUEZHAIQUANC                          │\n",
       "├──────────┴─────────────────────┴─────────────────────────────────────┴─────────────────┴─────────────────────────────────────────────────┤\n",
       "│ ? rows (>9999 rows, 20 shown)                                                                                                  5 columns │\n",
       "└──────────────────────────────────────────────────────────────────────────────────────────────────────────────────────────────────────────┘"
      ]
     },
     "execution_count": 2,
     "metadata": {},
     "output_type": "execute_result"
    }
   ],
   "source": [
    "duckdb.read_csv(\"fund_basic_info.csv\")"
   ]
  },
  {
   "cell_type": "code",
   "execution_count": 12,
   "id": "3dca2e5d",
   "metadata": {},
   "outputs": [
    {
     "data": {
      "application/vnd.microsoft.datawrangler.viewer.v0+json": {
       "columns": [
        {
         "name": "index",
         "rawType": "int64",
         "type": "integer"
        },
        {
         "name": "基金代码",
         "rawType": "object",
         "type": "string"
        },
        {
         "name": "拼音缩写",
         "rawType": "object",
         "type": "string"
        },
        {
         "name": "基金简称",
         "rawType": "object",
         "type": "string"
        },
        {
         "name": "基金类型",
         "rawType": "object",
         "type": "string"
        },
        {
         "name": "拼音全称",
         "rawType": "object",
         "type": "string"
        }
       ],
       "ref": "d3e7c039-cfbb-455e-9877-d5a8a672377f",
       "rows": [
        [
         "0",
         "012903",
         "PATYZQC",
         "平安添悦债券C",
         "债券型-混合二级",
         "PINGANTIANYUEZHAIQUANC"
        ]
       ],
       "shape": {
        "columns": 5,
        "rows": 1
       }
      },
      "text/html": [
       "<div>\n",
       "<style scoped>\n",
       "    .dataframe tbody tr th:only-of-type {\n",
       "        vertical-align: middle;\n",
       "    }\n",
       "\n",
       "    .dataframe tbody tr th {\n",
       "        vertical-align: top;\n",
       "    }\n",
       "\n",
       "    .dataframe thead th {\n",
       "        text-align: right;\n",
       "    }\n",
       "</style>\n",
       "<table border=\"1\" class=\"dataframe\">\n",
       "  <thead>\n",
       "    <tr style=\"text-align: right;\">\n",
       "      <th></th>\n",
       "      <th>基金代码</th>\n",
       "      <th>拼音缩写</th>\n",
       "      <th>基金简称</th>\n",
       "      <th>基金类型</th>\n",
       "      <th>拼音全称</th>\n",
       "    </tr>\n",
       "  </thead>\n",
       "  <tbody>\n",
       "    <tr>\n",
       "      <th>0</th>\n",
       "      <td>012903</td>\n",
       "      <td>PATYZQC</td>\n",
       "      <td>平安添悦债券C</td>\n",
       "      <td>债券型-混合二级</td>\n",
       "      <td>PINGANTIANYUEZHAIQUANC</td>\n",
       "    </tr>\n",
       "  </tbody>\n",
       "</table>\n",
       "</div>"
      ],
      "text/plain": [
       "     基金代码     拼音缩写     基金简称      基金类型                    拼音全称\n",
       "0  012903  PATYZQC  平安添悦债券C  债券型-混合二级  PINGANTIANYUEZHAIQUANC"
      ]
     },
     "execution_count": 12,
     "metadata": {},
     "output_type": "execute_result"
    }
   ],
   "source": [
    "duckdb.sql(\"SELECT * FROM read_csv('fund_basic_info.csv') where 基金简称 = '平安添悦债券C'\").df()"
   ]
  },
  {
   "cell_type": "code",
   "execution_count": null,
   "id": "5e633d84",
   "metadata": {},
   "outputs": [],
   "source": []
  }
 ],
 "metadata": {
  "kernelspec": {
   "display_name": "dev",
   "language": "python",
   "name": "python3"
  },
  "language_info": {
   "codemirror_mode": {
    "name": "ipython",
    "version": 3
   },
   "file_extension": ".py",
   "mimetype": "text/x-python",
   "name": "python",
   "nbconvert_exporter": "python",
   "pygments_lexer": "ipython3",
   "version": "3.10.13"
  }
 },
 "nbformat": 4,
 "nbformat_minor": 5
}
